{
 "cells": [
  {
   "cell_type": "code",
   "execution_count": 43,
   "id": "3bb93750-b8df-467b-afcf-7c1d06587694",
   "metadata": {},
   "outputs": [
    {
     "name": "stdout",
     "output_type": "stream",
     "text": [
      "   carat      cut color clarity  depth  table  price     x     y     z\n",
      "0   0.23    Ideal     E     SI2   61.5   55.0    326  3.95  3.98  2.43\n",
      "1   0.21  Premium     E     SI1   59.8   61.0    326  3.89  3.84  2.31\n",
      "2   0.23     Good     E     VS1   56.9   65.0    327  4.05  4.07  2.31\n",
      "3   0.29  Premium     I     VS2   62.4   58.0    334  4.20  4.23  2.63\n",
      "4   0.31     Good     J     SI2   63.3   58.0    335  4.34  4.35  2.75\n"
     ]
    }
   ],
   "source": [
    "import seaborn as sns\n",
    "diamonds = sns.load_dataset('diamonds')\n",
    "print(diamonds.head())"
   ]
  },
  {
   "cell_type": "code",
   "execution_count": 53,
   "id": "ba71906d-6fbe-4e47-87b0-6cd7d3c6c184",
   "metadata": {},
   "outputs": [],
   "source": [
    "var_carat = diamonds['carat']\n",
    "var_cut = diamonds['cut']\n",
    "var_color = diamonds['color']\n",
    "var_clarity = diamonds['clarity']\n",
    "var_depth = diamonds['depth']\n",
    "var_table = diamonds['table']\n",
    "var_price = diamonds['price']\n",
    "var_x = diamonds['x']\n",
    "var_y = diamonds['y']\n",
    "var_z = diamonds['z']"
   ]
  },
  {
   "cell_type": "code",
   "execution_count": 49,
   "id": "be0c018c-31a9-4966-9801-227eb134be73",
   "metadata": {},
   "outputs": [
    {
     "name": "stdout",
     "output_type": "stream",
     "text": [
      "0        0.23\n",
      "1        0.21\n",
      "2        0.23\n",
      "3        0.29\n",
      "4        0.31\n",
      "         ... \n",
      "53935    0.72\n",
      "53936    0.72\n",
      "53937    0.70\n",
      "53938    0.86\n",
      "53939    0.75\n",
      "Name: carat, Length: 53940, dtype: float64\n"
     ]
    }
   ],
   "source": [
    "print(var_carat)"
   ]
  },
  {
   "cell_type": "code",
   "execution_count": 55,
   "id": "2b06f1ac-4c92-4aed-91eb-e4f615173cf3",
   "metadata": {},
   "outputs": [
    {
     "name": "stdout",
     "output_type": "stream",
     "text": [
      "0            Ideal\n",
      "1          Premium\n",
      "2             Good\n",
      "3          Premium\n",
      "4             Good\n",
      "           ...    \n",
      "53935        Ideal\n",
      "53936         Good\n",
      "53937    Very Good\n",
      "53938      Premium\n",
      "53939        Ideal\n",
      "Name: cut, Length: 53940, dtype: category\n",
      "Categories (5, object): ['Ideal', 'Premium', 'Very Good', 'Good', 'Fair']\n"
     ]
    }
   ],
   "source": [
    "print(var_cut)"
   ]
  },
  {
   "cell_type": "code",
   "execution_count": 57,
   "id": "c7d0afa4-adcc-4ae6-a68b-de4be3ec1481",
   "metadata": {},
   "outputs": [
    {
     "name": "stdout",
     "output_type": "stream",
     "text": [
      "0        E\n",
      "1        E\n",
      "2        E\n",
      "3        I\n",
      "4        J\n",
      "        ..\n",
      "53935    D\n",
      "53936    D\n",
      "53937    D\n",
      "53938    H\n",
      "53939    D\n",
      "Name: color, Length: 53940, dtype: category\n",
      "Categories (7, object): ['D', 'E', 'F', 'G', 'H', 'I', 'J']\n"
     ]
    }
   ],
   "source": [
    "print(var_color)"
   ]
  },
  {
   "cell_type": "code",
   "execution_count": 59,
   "id": "7c7341d1-a19d-4f87-b7cd-ea7f3dc39870",
   "metadata": {},
   "outputs": [
    {
     "name": "stdout",
     "output_type": "stream",
     "text": [
      "0        SI2\n",
      "1        SI1\n",
      "2        VS1\n",
      "3        VS2\n",
      "4        SI2\n",
      "        ... \n",
      "53935    SI1\n",
      "53936    SI1\n",
      "53937    SI1\n",
      "53938    SI2\n",
      "53939    SI2\n",
      "Name: clarity, Length: 53940, dtype: category\n",
      "Categories (8, object): ['IF', 'VVS1', 'VVS2', 'VS1', 'VS2', 'SI1', 'SI2', 'I1']\n"
     ]
    }
   ],
   "source": [
    "print(var_clarity)"
   ]
  },
  {
   "cell_type": "code",
   "execution_count": 61,
   "id": "b7a6c4c0-c29b-4ee8-aa20-1dc9fd4a712b",
   "metadata": {},
   "outputs": [
    {
     "name": "stdout",
     "output_type": "stream",
     "text": [
      "0        E\n",
      "1        E\n",
      "2        E\n",
      "3        I\n",
      "4        J\n",
      "        ..\n",
      "53935    D\n",
      "53936    D\n",
      "53937    D\n",
      "53938    H\n",
      "53939    D\n",
      "Name: color, Length: 53940, dtype: category\n",
      "Categories (7, object): ['D', 'E', 'F', 'G', 'H', 'I', 'J']\n"
     ]
    }
   ],
   "source": [
    "print(var_color)"
   ]
  },
  {
   "cell_type": "code",
   "execution_count": 63,
   "id": "925548c3-029c-4a14-855f-9cbebb5cadad",
   "metadata": {},
   "outputs": [
    {
     "name": "stdout",
     "output_type": "stream",
     "text": [
      "0        SI2\n",
      "1        SI1\n",
      "2        VS1\n",
      "3        VS2\n",
      "4        SI2\n",
      "        ... \n",
      "53935    SI1\n",
      "53936    SI1\n",
      "53937    SI1\n",
      "53938    SI2\n",
      "53939    SI2\n",
      "Name: clarity, Length: 53940, dtype: category\n",
      "Categories (8, object): ['IF', 'VVS1', 'VVS2', 'VS1', 'VS2', 'SI1', 'SI2', 'I1']\n"
     ]
    }
   ],
   "source": [
    "print(var_clarity)"
   ]
  },
  {
   "cell_type": "code",
   "execution_count": 65,
   "id": "45fe4489-deb1-42c8-81d6-d2c06cede727",
   "metadata": {},
   "outputs": [
    {
     "name": "stdout",
     "output_type": "stream",
     "text": [
      "0        61.5\n",
      "1        59.8\n",
      "2        56.9\n",
      "3        62.4\n",
      "4        63.3\n",
      "         ... \n",
      "53935    60.8\n",
      "53936    63.1\n",
      "53937    62.8\n",
      "53938    61.0\n",
      "53939    62.2\n",
      "Name: depth, Length: 53940, dtype: float64\n"
     ]
    }
   ],
   "source": [
    "print(var_depth)"
   ]
  },
  {
   "cell_type": "code",
   "execution_count": 67,
   "id": "92893158-e4fb-4659-8c4f-fe8afedbf7a4",
   "metadata": {},
   "outputs": [
    {
     "name": "stdout",
     "output_type": "stream",
     "text": [
      "0        55.0\n",
      "1        61.0\n",
      "2        65.0\n",
      "3        58.0\n",
      "4        58.0\n",
      "         ... \n",
      "53935    57.0\n",
      "53936    55.0\n",
      "53937    60.0\n",
      "53938    58.0\n",
      "53939    55.0\n",
      "Name: table, Length: 53940, dtype: float64\n"
     ]
    }
   ],
   "source": [
    "print(var_table)"
   ]
  },
  {
   "cell_type": "code",
   "execution_count": 69,
   "id": "fe14256b-91aa-4f53-8c32-6169fd7324f2",
   "metadata": {},
   "outputs": [
    {
     "name": "stdout",
     "output_type": "stream",
     "text": [
      "0         326\n",
      "1         326\n",
      "2         327\n",
      "3         334\n",
      "4         335\n",
      "         ... \n",
      "53935    2757\n",
      "53936    2757\n",
      "53937    2757\n",
      "53938    2757\n",
      "53939    2757\n",
      "Name: price, Length: 53940, dtype: int64\n"
     ]
    }
   ],
   "source": [
    "print(var_price)"
   ]
  },
  {
   "cell_type": "code",
   "execution_count": 71,
   "id": "7c6534b8-4420-4393-abda-c2d5b9acafc1",
   "metadata": {},
   "outputs": [
    {
     "name": "stdout",
     "output_type": "stream",
     "text": [
      "0        3.95\n",
      "1        3.89\n",
      "2        4.05\n",
      "3        4.20\n",
      "4        4.34\n",
      "         ... \n",
      "53935    5.75\n",
      "53936    5.69\n",
      "53937    5.66\n",
      "53938    6.15\n",
      "53939    5.83\n",
      "Name: x, Length: 53940, dtype: float64\n"
     ]
    }
   ],
   "source": [
    "print(var_x)"
   ]
  },
  {
   "cell_type": "code",
   "execution_count": 73,
   "id": "a8370986-cf9b-4562-84ab-7ae743a299a9",
   "metadata": {},
   "outputs": [
    {
     "name": "stdout",
     "output_type": "stream",
     "text": [
      "0        3.98\n",
      "1        3.84\n",
      "2        4.07\n",
      "3        4.23\n",
      "4        4.35\n",
      "         ... \n",
      "53935    5.76\n",
      "53936    5.75\n",
      "53937    5.68\n",
      "53938    6.12\n",
      "53939    5.87\n",
      "Name: y, Length: 53940, dtype: float64\n"
     ]
    }
   ],
   "source": [
    "print(var_y)"
   ]
  },
  {
   "cell_type": "code",
   "execution_count": 75,
   "id": "a5e40426-62f3-49a6-959b-42c71596b397",
   "metadata": {},
   "outputs": [
    {
     "name": "stdout",
     "output_type": "stream",
     "text": [
      "0        2.43\n",
      "1        2.31\n",
      "2        2.31\n",
      "3        2.63\n",
      "4        2.75\n",
      "         ... \n",
      "53935    3.50\n",
      "53936    3.61\n",
      "53937    3.56\n",
      "53938    3.74\n",
      "53939    3.64\n",
      "Name: z, Length: 53940, dtype: float64\n"
     ]
    }
   ],
   "source": [
    "print(var_z)"
   ]
  },
  {
   "cell_type": "code",
   "execution_count": 134,
   "id": "13a38e88-6b6c-4f3d-9494-3cf26c4f9353",
   "metadata": {},
   "outputs": [
    {
     "name": "stdout",
     "output_type": "stream",
     "text": [
      "Mean Squared Error: 1825912.99\n",
      "R-squared: 0.89\n"
     ]
    }
   ],
   "source": [
    "import seaborn as sns\n",
    "import pandas as pd\n",
    "\n",
    "from sklearn.model_selection import train_test_split\n",
    "from sklearn.linear_model import LinearRegression\n",
    "from sklearn.preprocessing import LabelEncoder\n",
    "from sklearn.metrics import mean_squared_error, r2_score\n",
    "\n",
    "# Load the dataset\n",
    "diamonds = sns.load_dataset('diamonds')\n",
    "\n",
    "# Encode categorical columns (cut, color, clarity) using LabelEncoder\n",
    "label_encoders = {}\n",
    "categorical_cols = ['cut', 'color', 'clarity']\n",
    "\n",
    "for col in categorical_cols:\n",
    "    le = LabelEncoder()\n",
    "    diamonds[col] = le.fit_transform(diamonds[col])\n",
    "    label_encoders[col] = le  # Save encoder for later (optional)\n",
    "\n",
    "# Features (X) and Target (y)\n",
    "X = diamonds[['carat', 'cut', 'color', 'clarity', 'depth', 'table', 'x', 'y', 'z']]\n",
    "y = diamonds['price']\n",
    "\n",
    "# Train-test split\n",
    "input_data_train, input_data_test, output_data_train, output_data_test = train_test_split(X, y, test_size=0.2, random_state=42)\n",
    "\n",
    "# Create Linear Regression model and fit\n",
    "model = LinearRegression()\n",
    "model.fit(input_data_train, output_data_train)\n",
    "\n",
    "# Predictions\n",
    "output_data_pred = model.predict(input_data_test)\n",
    "\n",
    "# Evaluate the model\n",
    "mse = mean_squared_error(output_data_test, output_data_pred)\n",
    "r2 = r2_score(output_data_test, output_data_pred)\n",
    "\n",
    "print(f\"Mean Squared Error: {mse:.2f}\")\n",
    "print(f\"R-squared: {r2:.2f}\")"
   ]
  },
  {
   "cell_type": "code",
   "execution_count": 144,
   "id": "4c1e9e89-3b41-493a-a111-ecbb452c83d2",
   "metadata": {},
   "outputs": [
    {
     "name": "stdout",
     "output_type": "stream",
     "text": [
      "   carat  cut  color  clarity  depth  table    x    y    z\n",
      "0    0.5    2      3        2   61.5   55.0  4.0  4.1  2.5\n",
      "Predicted Price: $2,232.09\n"
     ]
    }
   ],
   "source": [
    "# Make prediciton\n",
    "\n",
    "new_diamond = pd.DataFrame([{\n",
    "    'carat': 0.5,\n",
    "    'cut': label_encoders['cut'].transform(['Ideal'])[0],\n",
    "    'color': label_encoders['color'].transform(['G'])[0],\n",
    "    'clarity': label_encoders['clarity'].transform(['SI1'])[0],\n",
    "    'depth': 61.5,\n",
    "    'table': 55.0,\n",
    "    'x': 4.0,\n",
    "    'y': 4.1,\n",
    "    'z': 2.5\n",
    "}])\n",
    "\n",
    "print(new_diamond)\n",
    "\n",
    "predicted_price = model.predict(new_diamond)\n",
    "print(f\"Predicted Price: ${predicted_price[0]:,.2f}\")"
   ]
  },
  {
   "cell_type": "code",
   "execution_count": 9,
   "id": "ef255275-4553-4470-8cb0-5af69e0e93aa",
   "metadata": {},
   "outputs": [
    {
     "name": "stdout",
     "output_type": "stream",
     "text": [
      "Predicted price: 432 Dollar\n"
     ]
    }
   ],
   "source": [
    "import seaborn as sns\n",
    "import pandas as pd\n",
    "from sklearn import neighbors\n",
    "from sklearn.model_selection import train_test_split\n",
    "from sklearn.preprocessing import LabelEncoder, StandardScaler\n",
    "\n",
    "# Load the dataset\n",
    "diamonds = sns.load_dataset('diamonds')\n",
    "\n",
    "# Encode categorical columns (each column gets its own encoder)\n",
    "le_cut = LabelEncoder()\n",
    "le_color = LabelEncoder()\n",
    "le_clarity = LabelEncoder()\n",
    "\n",
    "diamonds['cut'] = le_cut.fit_transform(diamonds['cut'])\n",
    "diamonds['color'] = le_color.fit_transform(diamonds['color'])\n",
    "diamonds['clarity'] = le_clarity.fit_transform(diamonds['clarity'])\n",
    "\n",
    "# Features and target\n",
    "X = diamonds[['carat', 'cut', 'color', 'clarity', 'depth', 'table', 'x', 'y', 'z']]\n",
    "y = diamonds['price']\n",
    "\n",
    "# Train-test split\n",
    "X_train, X_test, y_train, y_test = train_test_split(X, y, test_size=0.2, random_state=42)\n",
    "\n",
    "# Scale features (helps with KNN)\n",
    "scaler = StandardScaler()\n",
    "X_train = scaler.fit_transform(X_train)\n",
    "X_test = scaler.transform(X_test)\n",
    "\n",
    "# KNN Classifier\n",
    "clf = neighbors.KNeighborsClassifier(n_neighbors=5)\n",
    "clf.fit(X_train, y_train)\n",
    "\n",
    "# Example prediction - new diamond\n",
    "new_diamond = pd.DataFrame([{\n",
    "    'carat': 0.3,\n",
    "    'cut': le_cut.transform(['Ideal'])[0],   # use transform, NOT fit_transform\n",
    "    'color': le_color.transform(['J'])[0],\n",
    "    'clarity': le_clarity.transform(['SI2'])[0],\n",
    "    'depth': 61.0,\n",
    "    'table': 55.1,\n",
    "    'x': 1.2,\n",
    "    'y': 1.3,\n",
    "    'z': 1.4\n",
    "}])\n",
    "\n",
    "# Scale the new diamond data\n",
    "new_diamond_scaled = scaler.transform(new_diamond)\n",
    "\n",
    "# Predict the price category\n",
    "prediction = clf.predict(new_diamond_scaled)\n",
    "print(\"Predicted price:\", prediction[0], 'Dollar')\n"
   ]
  }
 ],
 "metadata": {
  "kernelspec": {
   "display_name": "Python [conda env:base] *",
   "language": "python",
   "name": "conda-base-py"
  },
  "language_info": {
   "codemirror_mode": {
    "name": "ipython",
    "version": 3
   },
   "file_extension": ".py",
   "mimetype": "text/x-python",
   "name": "python",
   "nbconvert_exporter": "python",
   "pygments_lexer": "ipython3",
   "version": "3.12.7"
  }
 },
 "nbformat": 4,
 "nbformat_minor": 5
}
